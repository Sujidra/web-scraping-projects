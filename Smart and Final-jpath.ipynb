{
 "cells": [
  {
   "cell_type": "code",
   "execution_count": 1,
   "metadata": {},
   "outputs": [
    {
     "name": "stderr",
     "output_type": "stream",
     "text": [
      "IOPub data rate exceeded.\n",
      "The notebook server will temporarily stop sending output\n",
      "to the client in order to avoid crashing it.\n",
      "To change this limit, set the config variable\n",
      "`--NotebookApp.iopub_data_rate_limit`.\n",
      "\n",
      "Current values:\n",
      "NotebookApp.iopub_data_rate_limit=1000000.0 (bytes/sec)\n",
      "NotebookApp.rate_limit_window=3.0 (secs)\n",
      "\n"
     ]
    }
   ],
   "source": [
    "import requests\n",
    "import json\n",
    "import pandas as pd\n",
    "url = \"https://www.smartandfinal.com/api/m_product/search\"\n",
    "product_id=[]\n",
    "source_id=[]\n",
    "title=[]\n",
    "description=[]\n",
    "brand=[]\n",
    "size=[]\n",
    "location_id=[]\n",
    "category_id=[]\n",
    "category_name=[]\n",
    "loyalty=[]\n",
    "price=[]\n",
    "min_price=[]\n",
    "max_price=[]\n",
    "currency=[]\n",
    "dic={}\n",
    "for i in range(1,147):\n",
    "    payload = \"{\\\"page\\\":1,\\\"pagesize\\\":96,\\\"#\\\":null,\\\"include_display_only\\\":true,\\\"apply_user_tags\\\":false,\\\"attribute_id\\\":\\\"611\\\",\\\"location_id\\\":8084,\\\"excluded_attribute_id\\\":null,\\\"attribute_id_operator\\\":\\\"OR\\\",\\\"lang\\\":\\\"en_US\\\"}\"\n",
    "    headers = {\n",
    "        'sec-fetch-mode': \"cors\",\n",
    "        'origin': \"https://www.smartandfinal.com\",\n",
    "        'accept-encoding': \"gzip, deflate, br\",\n",
    "        'x-csrf-token': \"khDCDNMb8rgymonKjqycuB0QXMQC1bbnxeQRVmW9wk8\",\n",
    "        'accept-language': \"en-US,en;q=0.9\",\n",
    "        'cookie': \"__cfduid=d74dd1a16329332843ac6e9b2186f38d81568099979; _ga=GA1.2.30453014.1568099981; _gid=GA1.2.1042822377.1568099981; _fbp=fb.1.1568099982352.1155985825; SESS04126c102d66b37b4b663fc1a54abd9a=GnrIkf-N4dlhaAMivKuOhN8N7dnh-4YgVQdJH6uPtc0; XSRF-TOKEN=khDCDNMb8rgymonKjqycuB0QXMQC1bbnxeQRVmW9wk8; preservedStoreIDFromLogout=8084; session=1568354033254.77aiss9; has_js=1; _gat_UA-139304428-1=1; _gat_UA-65681409-1=1\",\n",
    "        'user-agent': \"Mozilla/5.0 (Windows NT 6.1; Win64; x64) AppleWebKit/537.36 (KHTML, like Gecko) Chrome/76.0.3809.132 Safari/537.36\",\n",
    "        'content-type': \"application/json;charset=UTF-8\",\n",
    "        'accept': \"application/json, text/plain, */*\",\n",
    "        'referer': \"https://www.smartandfinal.com/shop\",\n",
    "        'authority': \"www.smartandfinal.com\",\n",
    "        'sec-fetch-site': \"same-origin\",\n",
    "        'cache-control': \"no-cache\",\n",
    "        'postman-token': \"c472b4e5-7c60-5eb6-cf7e-2282936df83a\"\n",
    "        }\n",
    "\n",
    "    response = requests.request(\"POST\", url, data=payload, headers=headers).json()\n",
    "\n",
    "    for a in response['results']:\n",
    "        \n",
    "        product_id.append(a.get('product_id'))\n",
    "        source_id.append(a.get('source_id'))\n",
    "        title.append(a.get('title'))\n",
    "        description.append(a.get('description'))\n",
    "        brand.append(a.get('brand'))\n",
    "        size.append(a.get('size'))   \n",
    "        location_id.append(a.get('location_id'))             \n",
    "        loyalty.append(a.get('loyalty'))    \n",
    "        price.append(a.get('pricing').get('price') ) \n",
    "        min_price.append(a.get('pricing').get('min_price') ) \n",
    "        max_price.append(a.get('pricing').get('max_price') ) \n",
    "        currency.append(a.get('pricing').get('currency') )\n",
    "dic['product_id']=product_id   \n",
    "dic['source_id']=source_id\n",
    "dic['title']=title\n",
    "dic['description']=description\n",
    "dic['brand']=brand\n",
    "dic['size']=size\n",
    "dic['location_id']=location_id\n",
    "dic['loyalty']=loyalty\n",
    "dic['price']=price\n",
    "dic['min_price']=min_price\n",
    "dic['max_price']=max_price\n",
    "dic['currency']=currency\n",
    "\n",
    "print(json.dumps(dic))"
   ]
  },
  {
   "cell_type": "code",
   "execution_count": 3,
   "metadata": {},
   "outputs": [],
   "source": [
    "df = pd.DataFrame({'Product id':dic['product_id'],'source_id':dic['source_id'],'title':dic['title'],'description':dic['description'],'brand':dic['brand'],'size':dic['size'],'location_id':dic['location_id'],'loyalty':dic['loyalty'],'price':dic['price'],'min_price':dic['min_price'],'max_price':dic['max_price'],'currency':dic['currency']}) \n",
    "df.to_csv('smartfinal_1.csv', index=False, encoding='utf-8')"
   ]
  },
  {
   "cell_type": "code",
   "execution_count": 2,
   "metadata": {},
   "outputs": [],
   "source": []
  }
 ],
 "metadata": {
  "kernelspec": {
   "display_name": "Python 3",
   "language": "python",
   "name": "python3"
  },
  "language_info": {
   "codemirror_mode": {
    "name": "ipython",
    "version": 3
   },
   "file_extension": ".py",
   "mimetype": "text/x-python",
   "name": "python",
   "nbconvert_exporter": "python",
   "pygments_lexer": "ipython3",
   "version": "3.7.3"
  }
 },
 "nbformat": 4,
 "nbformat_minor": 2
}
